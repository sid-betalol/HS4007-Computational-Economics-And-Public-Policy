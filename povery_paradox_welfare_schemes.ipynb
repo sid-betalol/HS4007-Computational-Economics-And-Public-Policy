{
  "cells": [
    {
      "cell_type": "markdown",
      "metadata": {
        "id": "view-in-github",
        "colab_type": "text"
      },
      "source": [
        "<a href=\"https://colab.research.google.com/github/sid-betalol/HS4007-Computational-Economics-And-Public-Policy/blob/main/povery_paradox_welfare_schemes.ipynb\" target=\"_parent\"><img src=\"https://colab.research.google.com/assets/colab-badge.svg\" alt=\"Open In Colab\"/></a>"
      ]
    },
    {
      "cell_type": "markdown",
      "source": [
        "## **HS4007: COMPUTATIONAL ECONOMICS AND PUBLIC POLICY**\n",
        "### **Group-7 Course Project: Poverty Paradox**\n",
        "\n",
        "Siddharth Betala (BE19B032), Bharath S (AE19B009), Mishma (ED19B019)"
      ],
      "metadata": {
        "id": "Wb7NWNxTViYf"
      }
    },
    {
      "cell_type": "markdown",
      "source": [
        "### **Goal**\n",
        "One way governments across the world try to uplift marginalised sections of the population is through welfare schemes in the form of monetary aid. We wanted to look at whether the binary welfare scheme, for which the eligibility is a threshold based on the periodic income of an agent, can succesfully achieve the goal of alleviating poverty in the long run.\n",
        "\n",
        "Ideally, such a scheme should generate high welfare and high average savings and at the same time, minimise government spending.\n",
        "\n",
        "In this project, we look at three schemes and compare them based on the aforementioned parameters.\n",
        "\n",
        "The three schemes are described as follows:\n",
        "- **Binary or Vanilla Welfare Scheme:** Under this scheme, the government sets a certain income threshold for the agents to be elgible for aid. The aid is discontinued once an agent's periodic income crosses the threshold.\n",
        "- **Perpetual Welfare Scheme:**: Under this scheme, every agent in the population is eligible for the aid, irrespective of their periodic income. By modelling this scheme, we aim to evaluate the uitlity of Universal Basic Income in mitigating poverty.\n",
        "-**Diminishing Aid:** Unlike the Binary Welfare Scheme, when an agent crosses the income threshold, the aid is not discontinued; rather it is cut down by a specific fraction every period.\n",
        "- Additionally, we look at the situation with **no welfare schemes** in place as our baseline."
      ],
      "metadata": {
        "id": "3WwfU129HWJW"
      }
    },
    {
      "cell_type": "markdown",
      "source": [
        "### Importing the required libraries"
      ],
      "metadata": {
        "id": "3CrnANZEQyjG"
      }
    },
    {
      "cell_type": "code",
      "execution_count": null,
      "metadata": {
        "id": "oGmVQGl97eKs"
      },
      "outputs": [],
      "source": [
        "import math\n",
        "import pandas as pd\n",
        "import numpy\n",
        "import random\n",
        "import matplotlib.pyplot as plt"
      ]
    },
    {
      "cell_type": "markdown",
      "source": [
        "## Assumptions\n",
        "- There are surplus jobs in th economy over all periods, and all agents have uniform access to the job market.\n",
        "- The government has the monetary capacity to implement each scheme."
      ],
      "metadata": {
        "id": "03PYHPihHNmu"
      }
    },
    {
      "cell_type": "markdown",
      "source": [
        "## **Defining pertinent terms**\n",
        "The ultimate goal of such schemes is to ensure that eventually everyone has a job. In a market with surplus jobs, the factors that decide whether or not someone gets a job are twofold:\n",
        "\n",
        "1.   The first one is the inherent propensity of an agent to be employed, which we define as their **preference**. The preference of an individual is given by a preference function, which has been defined later in the notebook.\n",
        "2. The second is the **desperation** of agents to be employed, which is determined by their economic conditions.\n",
        "\n",
        "While the government can't control the preference parameter, it can control the desperation through various schemes.\n",
        "\n",
        "Hence, in our model we have defined the preference of each agent based on the preference function defined later and the desperation introduced in the population with each of the 4 welfare schemes.\n",
        "\n",
        "### **Variables Table**\n",
        "|Name|Description|\n",
        "|:---:|:---:|\n",
        "|NUM_PEOPLE| Number of agents in the population|\n",
        "|NUM_PERIOD| Number of periods for which the model is simulated|\n",
        "|senti| List containing the preference values for each agent in the population|\n",
        "|desp| desperation value in the population for a particular scheme|\n",
        "|wp| aid received by an agent in each period|\n",
        "|pc| periodic expenses of an agent when they are under the welfare scheme|\n",
        "|sal| periodic salary of an employed agent at the beginning of the simulation|\n",
        "|lc| periodic expenses of an employed agent|\n",
        "|ip| periodic savings/earnings of an agent under the welfare programme; defined as (wp-pc)|\n",
        "|np| periodic savings/earnings of an employed agent at the beginning of the simulation, defined as (sal-lc)|\n",
        "|inc| (inc-1) gives the percentage of periodic increment in savings after each period|\n",
        "|job_status| depicts the eployment status of ana gent in the population|\n",
        "|govt_spending| money spent by the government under each scheme|\n",
        "|avg_profit_per_person_per_period| average periodic savings of an agent under a scheme|\n",
        "|welfare| quantification of the abstract socio-economic welfare created thopugh each scheme|\n",
        "\n",
        "#### **How have these variables been initialised?**\n",
        "- The salary of an agent (sal) has been given a higher value than the aid received (wp) each period; this is the expected sitation.\n",
        "- The periodic expenses of a person under the welfare scheme (pc) have been given a lower value than that of an employed person (lc), because of additional expenses which might be incurrred in terms of transporation to workplace or money spent on meals eaten outside.\n",
        "- The aforementioned values have been set such that the savings under welfare (ip) are more than savings with a job at the beginning of the simulation(np). This has been deliberately done to see how agents with more short-term rationale act against agents with more preference for jobs. Some reasons for having high preference might be social pressure or ambition.\n",
        "- We'll be describing the desperation (desp) values for each scheme as we go ahead.  This has been defined for each situation based on how appealing having a job is and how dire is a person's situation will be if they don't have a job given a welfare scheme.\n"
      ],
      "metadata": {
        "id": "m6OZU-WaY5lM"
      }
    },
    {
      "cell_type": "markdown",
      "source": [
        "### Initialisation"
      ],
      "metadata": {
        "id": "O2b4bxJoQ3C8"
      }
    },
    {
      "cell_type": "code",
      "execution_count": null,
      "metadata": {
        "id": "CnnNfj-87eKv"
      },
      "outputs": [],
      "source": [
        "NUM_PEOPLE = 100\n",
        "NUM_PERIOD = 20\n",
        "job_data = [[],[],[],[]]\n",
        "welfare = [[],[],[],[]]\n",
        "spending =  [[],[],[],[]]\n",
        "avg_income =  [[],[],[],[]]"
      ]
    },
    {
      "cell_type": "markdown",
      "source": [
        "### Sentiment/Preference Function\n",
        "Here, the preference function has been defined in a way such that the preference values are in accordance with the (Income-Expenditure) scenarios used ahead"
      ],
      "metadata": {
        "id": "LHWfWSCsRRIT"
      }
    },
    {
      "cell_type": "code",
      "execution_count": null,
      "metadata": {
        "colab": {
          "base_uri": "https://localhost:8080/",
          "height": 295
        },
        "id": "koiibiF87eKw",
        "outputId": "992f2800-5f44-4b23-c828-8b4d10b1a46c"
      },
      "outputs": [
        {
          "output_type": "display_data",
          "data": {
            "text/plain": [
              "<Figure size 432x288 with 1 Axes>"
            ],
            "image/png": "[encoded data removed]"
          },
          "metadata": {
            "needs_background": "light"
          }
        }
      ],
      "source": [
        "def senti_func(x : int):\n",
        "    return math.sqrt(x)/5 + 1\n",
        "\n",
        "people = list(range(NUM_PEOPLE))\n",
        "senti = list(senti_func(x) for x in people)\n",
        "plt.plot(people, senti)\n",
        "plt.grid()\n",
        "plt.title('Preference Function')\n",
        "plt.ylabel('Sentiment for job')\n",
        "plt.xlabel('People')\n",
        "plt.show()"
      ]
    },
    {
      "cell_type": "markdown",
      "source": [
        "## **Model Description**\n",
        "- We start off with a fixed number of agents in the poulation (NUM_PEOPLE), all of them below the poverty line.\n",
        "- They will then go search for jobs, if the product of their savings after employment and preference supercede their savings when they are unemployed. They will find a job with a probability p = (desperation * preference)\n",
        "- We keep a track of the the number of people employed after each period for all schemes, the governnment spending and welfare achieved.  "
      ],
      "metadata": {
        "id": "UYGEQ4X-FwTu"
      }
    },
    {
      "cell_type": "markdown",
      "metadata": {
        "id": "-I_Hn4XC7eKx"
      },
      "source": [
        "### **Binary/Vanilla Welfare Scheme**\n",
        "Desperation is low in the vanilla scheme as people just above the threshold, although have an increased income also have increased expenditure due to travel and food costs associated with employment. Hence they might be better off not working.\n",
        "\n",
        "$ desp = 0.1 $"
      ]
    },
    {
      "cell_type": "code",
      "execution_count": null,
      "metadata": {
        "colab": {
          "base_uri": "https://localhost:8080/",
          "height": 81
        },
        "id": "Z27qWGfV7eKz",
        "outputId": "fd872e58-1f40-4439-f27b-9acf30802f8f"
      },
      "outputs": [
        {
          "output_type": "execute_result",
          "data": {
            "text/plain": [
              "   Government spending  Number of employed agents  Social welfare  \\\n",
              "0               372500                         73            1789   \n",
              "\n",
              "   Average Periodic Earning  \n",
              "0                        43  "
            ],
            "text/html": [
              "\n",
              "  <div id=\"df-e0c3750c-b21f-4238-8aba-32b6c3fc4be5\">\n",
              "    <div class=\"colab-df-container\">\n",
              "      <div>\n",
              "<style scoped>\n",
              "    .dataframe tbody tr th:only-of-type {\n",
              "        vertical-align: middle;\n",
              "    }\n",
              "\n",
              "    .dataframe tbody tr th {\n",
              "        vertical-align: top;\n",
              "    }\n",
              "\n",
              "    .dataframe thead th {\n",
              "        text-align: right;\n",
              "    }\n",
              "</style>\n",
              "<table border=\"1\" class=\"dataframe\">\n",
              "  <thead>\n",
              "    <tr style=\"text-align: right;\">\n",
              "      <th></th>\n",
              "      <th>Government spending</th>\n",
              "      <th>Number of employed agents</th>\n",
              "      <th>Social welfare</th>\n",
              "      <th>Average Periodic Earning</th>\n",
              "    </tr>\n",
              "  </thead>\n",
              "  <tbody>\n",
              "    <tr>\n",
              "      <th>0</th>\n",
              "      <td>372500</td>\n",
              "      <td>73</td>\n",
              "      <td>1789</td>\n",
              "      <td>43</td>\n",
              "    </tr>\n",
              "  </tbody>\n",
              "</table>\n",
              "</div>\n",
              "      <button class=\"colab-df-convert\" onclick=\"convertToInteractive('df-e0c3750c-b21f-4238-8aba-32b6c3fc4be5')\"\n",
              "              title=\"Convert this dataframe to an interactive table.\"\n",
              "              style=\"display:none;\">\n",
              "        \n",
              "  <svg xmlns=\"http://www.w3.org/2000/svg\" height=\"24px\"viewBox=\"0 0 24 24\"\n",
              "       width=\"24px\">\n",
              "    <path d=\"M0 0h24v24H0V0z\" fill=\"none\"/>\n",
              "    <path d=\"M18.56 5.44l.94 2.06.94-2.06 2.06-.94-2.06-.94-.94-2.06-.94 2.06-2.06.94zm-11 1L8.5 8.5l.94-2.06 2.06-.94-2.06-.94L8.5 2.5l-.94 2.06-2.06.94zm10 10l.94 2.06.94-2.06 2.06-.94-2.06-.94-.94-2.06-.94 2.06-2.06.94z\"/><path d=\"M17.41 7.96l-1.37-1.37c-.4-.4-.92-.59-1.43-.59-.52 0-1.04.2-1.43.59L10.3 9.45l-7.72 7.72c-.78.78-.78 2.05 0 2.83L4 21.41c.39.39.9.59 1.41.59.51 0 1.02-.2 1.41-.59l7.78-7.78 2.81-2.81c.8-.78.8-2.07 0-2.86zM5.41 20L4 18.59l7.72-7.72 1.47 1.35L5.41 20z\"/>\n",
              "  </svg>\n",
              "      </button>\n",
              "      \n",
              "  <style>\n",
              "    .colab-df-container {\n",
              "      display:flex;\n",
              "      flex-wrap:wrap;\n",
              "      gap: 12px;\n",
              "    }\n",
              "\n",
              "    .colab-df-convert {\n",
              "      background-color: #E8F0FE;\n",
              "      border: none;\n",
              "      border-radius: 50%;\n",
              "      cursor: pointer;\n",
              "      display: none;\n",
              "      fill: #1967D2;\n",
              "      height: 32px;\n",
              "      padding: 0 0 0 0;\n",
              "      width: 32px;\n",
              "    }\n",
              "\n",
              "    .colab-df-convert:hover {\n",
              "      background-color: #E2EBFA;\n",
              "      box-shadow: 0px 1px 2px rgba(60, 64, 67, 0.3), 0px 1px 3px 1px rgba(60, 64, 67, 0.15);\n",
              "      fill: #174EA6;\n",
              "    }\n",
              "\n",
              "    [theme=dark] .colab-df-convert {\n",
              "      background-color: #3B4455;\n",
              "      fill: #D2E3FC;\n",
              "    }\n",
              "\n",
              "    [theme=dark] .colab-df-convert:hover {\n",
              "      background-color: #434B5C;\n",
              "      box-shadow: 0px 1px 3px 1px rgba(0, 0, 0, 0.15);\n",
              "      filter: drop-shadow(0px 1px 2px rgba(0, 0, 0, 0.3));\n",
              "      fill: #FFFFFF;\n",
              "    }\n",
              "  </style>\n",
              "\n",
              "      <script>\n",
              "        const buttonEl =\n",
              "          document.querySelector('#df-e0c3750c-b21f-4238-8aba-32b6c3fc4be5 button.colab-df-convert');\n",
              "        buttonEl.style.display =\n",
              "          google.colab.kernel.accessAllowed ? 'block' : 'none';\n",
              "\n",
              "        async function convertToInteractive(key) {\n",
              "          const element = document.querySelector('#df-e0c3750c-b21f-4238-8aba-32b6c3fc4be5');\n",
              "          const dataTable =\n",
              "            await google.colab.kernel.invokeFunction('convertToInteractive',\n",
              "                                                     [key], {});\n",
              "          if (!dataTable) return;\n",
              "\n",
              "          const docLinkHtml = 'Like what you see? Visit the ' +\n",
              "            '<a target=\"_blank\" href=https://colab.research.google.com/notebooks/data_table.ipynb>data table notebook</a>'\n",
              "            + ' to learn more about interactive tables.';\n",
              "          element.innerHTML = '';\n",
              "          dataTable['output_type'] = 'display_data';\n",
              "          await google.colab.output.renderOutput(dataTable, element);\n",
              "          const docLink = document.createElement('div');\n",
              "          docLink.innerHTML = docLinkHtml;\n",
              "          element.appendChild(docLink);\n",
              "        }\n",
              "      </script>\n",
              "    </div>\n",
              "  </div>\n",
              "  "
            ]
          },
          "metadata": {},
          "execution_count": 4
        }
      ],
      "source": [
        "sal = 600\n",
        "lc = 575\n",
        "\n",
        "wp = 500\n",
        "pc = 450\n",
        "\n",
        "inc = 1.05\n",
        "\n",
        "desp = 0.1\n",
        "\n",
        "ip = wp - pc\n",
        "np = sal - lc\n",
        "\n",
        "job_status = [False for person in range(NUM_PEOPLE)]\n",
        "earnings = [[0 for period in range(NUM_PERIOD)] for person in range(NUM_PEOPLE)]\n",
        "govt_spending = 0\n",
        "\n",
        "\n",
        "for period in range(NUM_PERIOD):\n",
        "    for person in range(NUM_PEOPLE):\n",
        "        if job_status[person] == False:\n",
        "            p = random.random()\n",
        "            if (p <= 0.1 * senti[person]) and (np * senti[person] > ip):\n",
        "                job_status[person] = True\n",
        "                earnings[person][period] += np\n",
        "            else:\n",
        "                earnings[person][period] += ip\n",
        "                govt_spending += wp\n",
        "        else:\n",
        "            earnings[person][period] += earnings[person][period-1] * inc\n",
        "    job_data[0].append(100-sum(job_status))\n",
        "\n",
        "avg_profit_per_person_per_period = round(sum([sum(earnings[person])/NUM_PERIOD for person in range(NUM_PEOPLE)])/NUM_PEOPLE)\n",
        "happiness = job_status.count(True)*avg_profit_per_person_per_period - ip*job_status.count(False)\n",
        "welfare[0] = job_status.count(True)*avg_profit_per_person_per_period - ip*job_status.count(False)\n",
        "spending[0] = govt_spending\n",
        "avg_income[0] = avg_profit_per_person_per_period\n",
        "\n",
        "wf = job_status.count(True)*avg_profit_per_person_per_period - ip*job_status.count(False)\n",
        "columns = [\"Government spending\", 'Number of employed agents', 'Social welfare', 'Average Periodic Earning']\n",
        "keys = [govt_spending,job_status.count(True),wf,avg_profit_per_person_per_period]\n",
        "df1 = pd.DataFrame(keys).T\n",
        "df1.columns = columns\n",
        "df1"
      ]
    },
    {
      "cell_type": "markdown",
      "metadata": {
        "id": "p4gKvJes7eK0"
      },
      "source": [
        "### **No Welfare Scheme**\n",
        "Desperation is highest in no welfare because people have no source of income and must find employment to sustain their families.\n",
        "\n",
        "$ desp = 0.3 $"
      ]
    },
    {
      "cell_type": "code",
      "execution_count": null,
      "metadata": {
        "colab": {
          "base_uri": "https://localhost:8080/",
          "height": 81
        },
        "id": "wrGXa5Tz7eK1",
        "outputId": "73820129-ff68-4084-a2a7-578da896381b"
      },
      "outputs": [
        {
          "output_type": "execute_result",
          "data": {
            "text/plain": [
              "   Government spending  Number of employed agents  Social welfare  \\\n",
              "0                    0                        100            2900   \n",
              "\n",
              "   Average Periodic Earning  \n",
              "0                        29  "
            ],
            "text/html": [
              "\n",
              "  <div id=\"df-c23e48f3-2bd3-478c-87b0-61cdf82bd4e0\">\n",
              "    <div class=\"colab-df-container\">\n",
              "      <div>\n",
              "<style scoped>\n",
              "    .dataframe tbody tr th:only-of-type {\n",
              "        vertical-align: middle;\n",
              "    }\n",
              "\n",
              "    .dataframe tbody tr th {\n",
              "        vertical-align: top;\n",
              "    }\n",
              "\n",
              "    .dataframe thead th {\n",
              "        text-align: right;\n",
              "    }\n",
              "</style>\n",
              "<table border=\"1\" class=\"dataframe\">\n",
              "  <thead>\n",
              "    <tr style=\"text-align: right;\">\n",
              "      <th></th>\n",
              "      <th>Government spending</th>\n",
              "      <th>Number of employed agents</th>\n",
              "      <th>Social welfare</th>\n",
              "      <th>Average Periodic Earning</th>\n",
              "    </tr>\n",
              "  </thead>\n",
              "  <tbody>\n",
              "    <tr>\n",
              "      <th>0</th>\n",
              "      <td>0</td>\n",
              "      <td>100</td>\n",
              "      <td>2900</td>\n",
              "      <td>29</td>\n",
              "    </tr>\n",
              "  </tbody>\n",
              "</table>\n",
              "</div>\n",
              "      <button class=\"colab-df-convert\" onclick=\"convertToInteractive('df-c23e48f3-2bd3-478c-87b0-61cdf82bd4e0')\"\n",
              "              title=\"Convert this dataframe to an interactive table.\"\n",
              "              style=\"display:none;\">\n",
              "        \n",
              "  <svg xmlns=\"http://www.w3.org/2000/svg\" height=\"24px\"viewBox=\"0 0 24 24\"\n",
              "       width=\"24px\">\n",
              "    <path d=\"M0 0h24v24H0V0z\" fill=\"none\"/>\n",
              "    <path d=\"M18.56 5.44l.94 2.06.94-2.06 2.06-.94-2.06-.94-.94-2.06-.94 2.06-2.06.94zm-11 1L8.5 8.5l.94-2.06 2.06-.94-2.06-.94L8.5 2.5l-.94 2.06-2.06.94zm10 10l.94 2.06.94-2.06 2.06-.94-2.06-.94-.94-2.06-.94 2.06-2.06.94z\"/><path d=\"M17.41 7.96l-1.37-1.37c-.4-.4-.92-.59-1.43-.59-.52 0-1.04.2-1.43.59L10.3 9.45l-7.72 7.72c-.78.78-.78 2.05 0 2.83L4 21.41c.39.39.9.59 1.41.59.51 0 1.02-.2 1.41-.59l7.78-7.78 2.81-2.81c.8-.78.8-2.07 0-2.86zM5.41 20L4 18.59l7.72-7.72 1.47 1.35L5.41 20z\"/>\n",
              "  </svg>\n",
              "      </button>\n",
              "      \n",
              "  <style>\n",
              "    .colab-df-container {\n",
              "      display:flex;\n",
              "      flex-wrap:wrap;\n",
              "      gap: 12px;\n",
              "    }\n",
              "\n",
              "    .colab-df-convert {\n",
              "      background-color: #E8F0FE;\n",
              "      border: none;\n",
              "      border-radius: 50%;\n",
              "      cursor: pointer;\n",
              "      display: none;\n",
              "      fill: #1967D2;\n",
              "      height: 32px;\n",
              "      padding: 0 0 0 0;\n",
              "      width: 32px;\n",
              "    }\n",
              "\n",
              "    .colab-df-convert:hover {\n",
              "      background-color: #E2EBFA;\n",
              "      box-shadow: 0px 1px 2px rgba(60, 64, 67, 0.3), 0px 1px 3px 1px rgba(60, 64, 67, 0.15);\n",
              "      fill: #174EA6;\n",
              "    }\n",
              "\n",
              "    [theme=dark] .colab-df-convert {\n",
              "      background-color: #3B4455;\n",
              "      fill: #D2E3FC;\n",
              "    }\n",
              "\n",
              "    [theme=dark] .colab-df-convert:hover {\n",
              "      background-color: #434B5C;\n",
              "      box-shadow: 0px 1px 3px 1px rgba(0, 0, 0, 0.15);\n",
              "      filter: drop-shadow(0px 1px 2px rgba(0, 0, 0, 0.3));\n",
              "      fill: #FFFFFF;\n",
              "    }\n",
              "  </style>\n",
              "\n",
              "      <script>\n",
              "        const buttonEl =\n",
              "          document.querySelector('#df-c23e48f3-2bd3-478c-87b0-61cdf82bd4e0 button.colab-df-convert');\n",
              "        buttonEl.style.display =\n",
              "          google.colab.kernel.accessAllowed ? 'block' : 'none';\n",
              "\n",
              "        async function convertToInteractive(key) {\n",
              "          const element = document.querySelector('#df-c23e48f3-2bd3-478c-87b0-61cdf82bd4e0');\n",
              "          const dataTable =\n",
              "            await google.colab.kernel.invokeFunction('convertToInteractive',\n",
              "                                                     [key], {});\n",
              "          if (!dataTable) return;\n",
              "\n",
              "          const docLinkHtml = 'Like what you see? Visit the ' +\n",
              "            '<a target=\"_blank\" href=https://colab.research.google.com/notebooks/data_table.ipynb>data table notebook</a>'\n",
              "            + ' to learn more about interactive tables.';\n",
              "          element.innerHTML = '';\n",
              "          dataTable['output_type'] = 'display_data';\n",
              "          await google.colab.output.renderOutput(dataTable, element);\n",
              "          const docLink = document.createElement('div');\n",
              "          docLink.innerHTML = docLinkHtml;\n",
              "          element.appendChild(docLink);\n",
              "        }\n",
              "      </script>\n",
              "    </div>\n",
              "  </div>\n",
              "  "
            ]
          },
          "metadata": {},
          "execution_count": 5
        }
      ],
      "source": [
        "sal = 600\n",
        "lc = 575\n",
        "\n",
        "wp = 0\n",
        "pc = 450\n",
        "\n",
        "inc = 1.05\n",
        "desp = 0.3\n",
        "\n",
        "ip = wp - pc\n",
        "np = sal - lc\n",
        "\n",
        "job_status = [False for person in range(NUM_PEOPLE)]\n",
        "earnings = [[0 for period in range(NUM_PERIOD)] for person in range(NUM_PEOPLE)]\n",
        "govt_spending = 0\n",
        "\n",
        "\n",
        "for period in range(NUM_PERIOD):\n",
        "    for person in range(NUM_PEOPLE):\n",
        "        if job_status[person] == False:\n",
        "            p = random.random()\n",
        "            if (p <= 0.3 * senti[person]) and (np * senti[person] > ip):\n",
        "                job_status[person] = True\n",
        "                earnings[person][period] += np\n",
        "            else:\n",
        "                earnings[person][period] += ip\n",
        "                govt_spending += wp\n",
        "        else:\n",
        "            earnings[person][period] += earnings[person][period-1] * inc\n",
        "    job_data[1].append(100-sum(job_status))\n",
        "\n",
        "\n",
        "avg_profit_per_person_per_period = round(sum([sum(earnings[person])/NUM_PERIOD for person in range(NUM_PEOPLE)])/NUM_PEOPLE)\n",
        "welfare[1] = job_status.count(True)*avg_profit_per_person_per_period - ip*job_status.count(False)\n",
        "spending[1] = govt_spending\n",
        "avg_income[1] = avg_profit_per_person_per_period\n",
        "\n",
        "wf = job_status.count(True)*avg_profit_per_person_per_period - ip*job_status.count(False)\n",
        "columns = [\"Government spending\", 'Number of employed agents', 'Social welfare', 'Average Periodic Earning']\n",
        "keys = [govt_spending,job_status.count(True),wf,avg_profit_per_person_per_period]\n",
        "df2 = pd.DataFrame(keys).T\n",
        "df2.columns = columns\n",
        "df2"
      ]
    },
    {
      "cell_type": "markdown",
      "metadata": {
        "id": "Gs-AYnUD7eK2"
      },
      "source": [
        "### **Perpetual Welfare Scheme**\n",
        "Desperation is higher in the perpetual scheme because their incomes would drastically increase once they find a job as they would continue to receive monetary aid.\n",
        "\n",
        "$ desp = 0.2 $"
      ]
    },
    {
      "cell_type": "code",
      "execution_count": null,
      "metadata": {
        "colab": {
          "base_uri": "https://localhost:8080/",
          "height": 81
        },
        "id": "s2xBiT_c7eK2",
        "outputId": "8a305b3e-35b3-4a73-d466-0abd3b29dade"
      },
      "outputs": [
        {
          "output_type": "execute_result",
          "data": {
            "text/plain": [
              "   Government spending  Number of employed agents  Social welfare  \\\n",
              "0              1000000                        100           51900   \n",
              "\n",
              "   Average Periodic Earning  \n",
              "0                       519  "
            ],
            "text/html": [
              "\n",
              "  <div id=\"df-88badfc5-1654-4c89-8f1d-5abc5465aedc\">\n",
              "    <div class=\"colab-df-container\">\n",
              "      <div>\n",
              "<style scoped>\n",
              "    .dataframe tbody tr th:only-of-type {\n",
              "        vertical-align: middle;\n",
              "    }\n",
              "\n",
              "    .dataframe tbody tr th {\n",
              "        vertical-align: top;\n",
              "    }\n",
              "\n",
              "    .dataframe thead th {\n",
              "        text-align: right;\n",
              "    }\n",
              "</style>\n",
              "<table border=\"1\" class=\"dataframe\">\n",
              "  <thead>\n",
              "    <tr style=\"text-align: right;\">\n",
              "      <th></th>\n",
              "      <th>Government spending</th>\n",
              "      <th>Number of employed agents</th>\n",
              "      <th>Social welfare</th>\n",
              "      <th>Average Periodic Earning</th>\n",
              "    </tr>\n",
              "  </thead>\n",
              "  <tbody>\n",
              "    <tr>\n",
              "      <th>0</th>\n",
              "      <td>1000000</td>\n",
              "      <td>100</td>\n",
              "      <td>51900</td>\n",
              "      <td>519</td>\n",
              "    </tr>\n",
              "  </tbody>\n",
              "</table>\n",
              "</div>\n",
              "      <button class=\"colab-df-convert\" onclick=\"convertToInteractive('df-88badfc5-1654-4c89-8f1d-5abc5465aedc')\"\n",
              "              title=\"Convert this dataframe to an interactive table.\"\n",
              "              style=\"display:none;\">\n",
              "        \n",
              "  <svg xmlns=\"http://www.w3.org/2000/svg\" height=\"24px\"viewBox=\"0 0 24 24\"\n",
              "       width=\"24px\">\n",
              "    <path d=\"M0 0h24v24H0V0z\" fill=\"none\"/>\n",
              "    <path d=\"M18.56 5.44l.94 2.06.94-2.06 2.06-.94-2.06-.94-.94-2.06-.94 2.06-2.06.94zm-11 1L8.5 8.5l.94-2.06 2.06-.94-2.06-.94L8.5 2.5l-.94 2.06-2.06.94zm10 10l.94 2.06.94-2.06 2.06-.94-2.06-.94-.94-2.06-.94 2.06-2.06.94z\"/><path d=\"M17.41 7.96l-1.37-1.37c-.4-.4-.92-.59-1.43-.59-.52 0-1.04.2-1.43.59L10.3 9.45l-7.72 7.72c-.78.78-.78 2.05 0 2.83L4 21.41c.39.39.9.59 1.41.59.51 0 1.02-.2 1.41-.59l7.78-7.78 2.81-2.81c.8-.78.8-2.07 0-2.86zM5.41 20L4 18.59l7.72-7.72 1.47 1.35L5.41 20z\"/>\n",
              "  </svg>\n",
              "      </button>\n",
              "      \n",
              "  <style>\n",
              "    .colab-df-container {\n",
              "      display:flex;\n",
              "      flex-wrap:wrap;\n",
              "      gap: 12px;\n",
              "    }\n",
              "\n",
              "    .colab-df-convert {\n",
              "      background-color: #E8F0FE;\n",
              "      border: none;\n",
              "      border-radius: 50%;\n",
              "      cursor: pointer;\n",
              "      display: none;\n",
              "      fill: #1967D2;\n",
              "      height: 32px;\n",
              "      padding: 0 0 0 0;\n",
              "      width: 32px;\n",
              "    }\n",
              "\n",
              "    .colab-df-convert:hover {\n",
              "      background-color: #E2EBFA;\n",
              "      box-shadow: 0px 1px 2px rgba(60, 64, 67, 0.3), 0px 1px 3px 1px rgba(60, 64, 67, 0.15);\n",
              "      fill: #174EA6;\n",
              "    }\n",
              "\n",
              "    [theme=dark] .colab-df-convert {\n",
              "      background-color: #3B4455;\n",
              "      fill: #D2E3FC;\n",
              "    }\n",
              "\n",
              "    [theme=dark] .colab-df-convert:hover {\n",
              "      background-color: #434B5C;\n",
              "      box-shadow: 0px 1px 3px 1px rgba(0, 0, 0, 0.15);\n",
              "      filter: drop-shadow(0px 1px 2px rgba(0, 0, 0, 0.3));\n",
              "      fill: #FFFFFF;\n",
              "    }\n",
              "  </style>\n",
              "\n",
              "      <script>\n",
              "        const buttonEl =\n",
              "          document.querySelector('#df-88badfc5-1654-4c89-8f1d-5abc5465aedc button.colab-df-convert');\n",
              "        buttonEl.style.display =\n",
              "          google.colab.kernel.accessAllowed ? 'block' : 'none';\n",
              "\n",
              "        async function convertToInteractive(key) {\n",
              "          const element = document.querySelector('#df-88badfc5-1654-4c89-8f1d-5abc5465aedc');\n",
              "          const dataTable =\n",
              "            await google.colab.kernel.invokeFunction('convertToInteractive',\n",
              "                                                     [key], {});\n",
              "          if (!dataTable) return;\n",
              "\n",
              "          const docLinkHtml = 'Like what you see? Visit the ' +\n",
              "            '<a target=\"_blank\" href=https://colab.research.google.com/notebooks/data_table.ipynb>data table notebook</a>'\n",
              "            + ' to learn more about interactive tables.';\n",
              "          element.innerHTML = '';\n",
              "          dataTable['output_type'] = 'display_data';\n",
              "          await google.colab.output.renderOutput(dataTable, element);\n",
              "          const docLink = document.createElement('div');\n",
              "          docLink.innerHTML = docLinkHtml;\n",
              "          element.appendChild(docLink);\n",
              "        }\n",
              "      </script>\n",
              "    </div>\n",
              "  </div>\n",
              "  "
            ]
          },
          "metadata": {},
          "execution_count": 6
        }
      ],
      "source": [
        "\n",
        "sal = 600\n",
        "lc = 575\n",
        "\n",
        "wp = 500\n",
        "pc = 450\n",
        "\n",
        "desp = 0.2\n",
        "inc = 1.05\n",
        "\n",
        "ip = wp - pc\n",
        "np = sal - lc\n",
        "\n",
        "job_status = [False for person in range(NUM_PEOPLE)]\n",
        "earnings = [[0 for period in range(NUM_PERIOD)] for person in range(NUM_PEOPLE)]\n",
        "govt_spending = 0\n",
        "\n",
        "\n",
        "for period in range(NUM_PERIOD):\n",
        "    for person in range(NUM_PEOPLE):\n",
        "        if job_status[person] == False:\n",
        "            p = random.random()\n",
        "            # if (p <= 0.2 * senti[person]) and (np * senti[person] > ip):\n",
        "            if (p <= 0.2 * senti[person] and ((np + wp)* senti[person] > ip)):\n",
        "                job_status[person] = True\n",
        "                earnings[person][period] += np + wp\n",
        "                govt_spending += wp\n",
        "            else:\n",
        "                earnings[person][period] += ip\n",
        "                govt_spending += wp\n",
        "        else:\n",
        "            earnings[person][period] += ((earnings[person][period-1]-wp) * inc) + wp\n",
        "            govt_spending += wp\n",
        "    job_data[2].append(100-sum(job_status))\n",
        "\n",
        "avg_profit_per_person_per_period = round(sum([sum(earnings[person])/NUM_PERIOD for person in range(NUM_PEOPLE)])/NUM_PEOPLE)\n",
        "happiness = job_status.count(True)*avg_profit_per_person_per_period - ip*job_status.count(False)\n",
        "welfare[2] = job_status.count(True)*avg_profit_per_person_per_period - ip*job_status.count(False)\n",
        "spending[2] = govt_spending\n",
        "avg_income[2] = avg_profit_per_person_per_period\n",
        "wf = job_status.count(True)*avg_profit_per_person_per_period - ip*job_status.count(False)\n",
        "columns = [\"Government spending\", 'Number of employed agents', 'Social welfare', 'Average Periodic Earning']\n",
        "keys = [govt_spending,job_status.count(True),wf,avg_profit_per_person_per_period]\n",
        "df3 = pd.DataFrame(keys).T\n",
        "df3.columns = columns\n",
        "df3"
      ]
    },
    {
      "cell_type": "markdown",
      "metadata": {
        "id": "HAwcC2YH7eK3"
      },
      "source": [
        "### **Diminishing Welfare Scheme**\n",
        "Desperation in diminishing is 0.15 because finding a job will still dramatically increase their income, albeit the aid would reduce over time. Therefore agents here are not as incentivised as the agents in the perceptual scheme\n",
        "\n",
        "$ desp = 0.15 $"
      ]
    },
    {
      "cell_type": "code",
      "execution_count": null,
      "metadata": {
        "colab": {
          "base_uri": "https://localhost:8080/",
          "height": 81
        },
        "id": "9SCj_rpN7eK4",
        "outputId": "d23d3fe7-6e62-40d1-f508-7f3ee0fc8275"
      },
      "outputs": [
        {
          "output_type": "execute_result",
          "data": {
            "text/plain": [
              "   Government spending  Number of employed agents  Social welfare  \\\n",
              "0        518971.690819                      100.0         25200.0   \n",
              "\n",
              "   Average Periodic Earning  \n",
              "0                     252.0  "
            ],
            "text/html": [
              "\n",
              "  <div id=\"df-0f94578f-f082-498b-86a2-61b92759a1b2\">\n",
              "    <div class=\"colab-df-container\">\n",
              "      <div>\n",
              "<style scoped>\n",
              "    .dataframe tbody tr th:only-of-type {\n",
              "        vertical-align: middle;\n",
              "    }\n",
              "\n",
              "    .dataframe tbody tr th {\n",
              "        vertical-align: top;\n",
              "    }\n",
              "\n",
              "    .dataframe thead th {\n",
              "        text-align: right;\n",
              "    }\n",
              "</style>\n",
              "<table border=\"1\" class=\"dataframe\">\n",
              "  <thead>\n",
              "    <tr style=\"text-align: right;\">\n",
              "      <th></th>\n",
              "      <th>Government spending</th>\n",
              "      <th>Number of employed agents</th>\n",
              "      <th>Social welfare</th>\n",
              "      <th>Average Periodic Earning</th>\n",
              "    </tr>\n",
              "  </thead>\n",
              "  <tbody>\n",
              "    <tr>\n",
              "      <th>0</th>\n",
              "      <td>518971.690819</td>\n",
              "      <td>100.0</td>\n",
              "      <td>25200.0</td>\n",
              "      <td>252.0</td>\n",
              "    </tr>\n",
              "  </tbody>\n",
              "</table>\n",
              "</div>\n",
              "      <button class=\"colab-df-convert\" onclick=\"convertToInteractive('df-0f94578f-f082-498b-86a2-61b92759a1b2')\"\n",
              "              title=\"Convert this dataframe to an interactive table.\"\n",
              "              style=\"display:none;\">\n",
              "        \n",
              "  <svg xmlns=\"http://www.w3.org/2000/svg\" height=\"24px\"viewBox=\"0 0 24 24\"\n",
              "       width=\"24px\">\n",
              "    <path d=\"M0 0h24v24H0V0z\" fill=\"none\"/>\n",
              "    <path d=\"M18.56 5.44l.94 2.06.94-2.06 2.06-.94-2.06-.94-.94-2.06-.94 2.06-2.06.94zm-11 1L8.5 8.5l.94-2.06 2.06-.94-2.06-.94L8.5 2.5l-.94 2.06-2.06.94zm10 10l.94 2.06.94-2.06 2.06-.94-2.06-.94-.94-2.06-.94 2.06-2.06.94z\"/><path d=\"M17.41 7.96l-1.37-1.37c-.4-.4-.92-.59-1.43-.59-.52 0-1.04.2-1.43.59L10.3 9.45l-7.72 7.72c-.78.78-.78 2.05 0 2.83L4 21.41c.39.39.9.59 1.41.59.51 0 1.02-.2 1.41-.59l7.78-7.78 2.81-2.81c.8-.78.8-2.07 0-2.86zM5.41 20L4 18.59l7.72-7.72 1.47 1.35L5.41 20z\"/>\n",
              "  </svg>\n",
              "      </button>\n",
              "      \n",
              "  <style>\n",
              "    .colab-df-container {\n",
              "      display:flex;\n",
              "      flex-wrap:wrap;\n",
              "      gap: 12px;\n",
              "    }\n",
              "\n",
              "    .colab-df-convert {\n",
              "      background-color: #E8F0FE;\n",
              "      border: none;\n",
              "      border-radius: 50%;\n",
              "      cursor: pointer;\n",
              "      display: none;\n",
              "      fill: #1967D2;\n",
              "      height: 32px;\n",
              "      padding: 0 0 0 0;\n",
              "      width: 32px;\n",
              "    }\n",
              "\n",
              "    .colab-df-convert:hover {\n",
              "      background-color: #E2EBFA;\n",
              "      box-shadow: 0px 1px 2px rgba(60, 64, 67, 0.3), 0px 1px 3px 1px rgba(60, 64, 67, 0.15);\n",
              "      fill: #174EA6;\n",
              "    }\n",
              "\n",
              "    [theme=dark] .colab-df-convert {\n",
              "      background-color: #3B4455;\n",
              "      fill: #D2E3FC;\n",
              "    }\n",
              "\n",
              "    [theme=dark] .colab-df-convert:hover {\n",
              "      background-color: #434B5C;\n",
              "      box-shadow: 0px 1px 3px 1px rgba(0, 0, 0, 0.15);\n",
              "      filter: drop-shadow(0px 1px 2px rgba(0, 0, 0, 0.3));\n",
              "      fill: #FFFFFF;\n",
              "    }\n",
              "  </style>\n",
              "\n",
              "      <script>\n",
              "        const buttonEl =\n",
              "          document.querySelector('#df-0f94578f-f082-498b-86a2-61b92759a1b2 button.colab-df-convert');\n",
              "        buttonEl.style.display =\n",
              "          google.colab.kernel.accessAllowed ? 'block' : 'none';\n",
              "\n",
              "        async function convertToInteractive(key) {\n",
              "          const element = document.querySelector('#df-0f94578f-f082-498b-86a2-61b92759a1b2');\n",
              "          const dataTable =\n",
              "            await google.colab.kernel.invokeFunction('convertToInteractive',\n",
              "                                                     [key], {});\n",
              "          if (!dataTable) return;\n",
              "\n",
              "          const docLinkHtml = 'Like what you see? Visit the ' +\n",
              "            '<a target=\"_blank\" href=https://colab.research.google.com/notebooks/data_table.ipynb>data table notebook</a>'\n",
              "            + ' to learn more about interactive tables.';\n",
              "          element.innerHTML = '';\n",
              "          dataTable['output_type'] = 'display_data';\n",
              "          await google.colab.output.renderOutput(dataTable, element);\n",
              "          const docLink = document.createElement('div');\n",
              "          docLink.innerHTML = docLinkHtml;\n",
              "          element.appendChild(docLink);\n",
              "        }\n",
              "      </script>\n",
              "    </div>\n",
              "  </div>\n",
              "  "
            ]
          },
          "metadata": {},
          "execution_count": 7
        }
      ],
      "source": [
        "sal = 600\n",
        "lc = 575\n",
        "\n",
        "wp = 500\n",
        "pc = 450\n",
        "\n",
        "inc = 1.05\n",
        "desp = 0.15\n",
        "\n",
        "ip = wp - pc\n",
        "np = sal - lc\n",
        "\n",
        "job_status = [False for person in range(NUM_PEOPLE)]\n",
        "earnings = [[0 for period in range(NUM_PERIOD)] for person in range(NUM_PEOPLE)]\n",
        "wp_comp = [[0 for period in range(NUM_PERIOD)] for person in range(NUM_PEOPLE)]\n",
        "govt_spending = 0\n",
        "\n",
        "wp_dec = 0.9\n",
        "\n",
        "\n",
        "for period in range(NUM_PERIOD):\n",
        "    for person in range(NUM_PEOPLE):\n",
        "        if job_status[person] == False:\n",
        "            p = random.random()\n",
        "            if (p <= 0.15 * senti[person]) :\n",
        "                job_status[person] = True\n",
        "                wp_comp[person][period] = wp\n",
        "                earnings[person][period] += np + wp_comp[person][period]\n",
        "                govt_spending += wp_comp[person][period]\n",
        "            else:\n",
        "                earnings[person][period] += ip\n",
        "                govt_spending += wp\n",
        "        else:\n",
        "            wp_comp[person][period] = wp_comp[person][period-1] * wp_dec\n",
        "            earnings[person][period] += ((earnings[person][period-1]- wp_comp[person][period-1]) * inc) + wp_comp[person][period]\n",
        "            govt_spending += wp_comp[person][period]\n",
        "    job_data[3].append(100-sum(job_status))\n",
        "\n",
        "avg_profit_per_person_per_period = round(sum([sum(earnings[person])/NUM_PERIOD for person in range(NUM_PEOPLE)])/NUM_PEOPLE)\n",
        "happiness = job_status.count(True)*avg_profit_per_person_per_period - ip*job_status.count(False)\n",
        "welfare[3] = job_status.count(True)*avg_profit_per_person_per_period - ip*job_status.count(False)\n",
        "spending[3] = govt_spending\n",
        "avg_income[3] = avg_profit_per_person_per_period\n",
        "wf = job_status.count(True)*avg_profit_per_person_per_period - ip*job_status.count(False)\n",
        "columns = [\"Government spending\", 'Number of employed agents', 'Social welfare', 'Average Periodic Earning']\n",
        "keys = [govt_spending,job_status.count(True),wf,avg_profit_per_person_per_period]\n",
        "df4 = pd.DataFrame(keys).T\n",
        "df4.columns = columns\n",
        "df4"
      ]
    },
    {
      "cell_type": "markdown",
      "source": [
        "## **Plots and Results**"
      ],
      "metadata": {
        "id": "qnqHRsh5SNoM"
      }
    },
    {
      "cell_type": "code",
      "source": [
        "df=pd.DataFrame(job_data).T\n",
        "df.columns = ['Orignal welfare scheme', 'No welfare scheme', 'Perpeptual welfare scheme', 'Diminishing welfare scheme']\n",
        "df.plot(figsize = (15,10));\n",
        "plt.title('Unemployment rate vs periods', size = 18);"
      ],
      "metadata": {
        "colab": {
          "base_uri": "https://localhost:8080/",
          "height": 611
        },
        "id": "7ODWokmcs4sp",
        "outputId": "2518f546-390c-4cce-e417-a2e84c10a25e"
      },
      "execution_count": null,
      "outputs": [
        {
          "output_type": "display_data",
          "data": {
            "text/plain": [
              "<Figure size 1080x720 with 1 Axes>"
            ],
            "image/png": "[encoded data removed]"
          },
          "metadata": {
            "needs_background": "light"
          }
        }
      ]
    },
    {
      "cell_type": "markdown",
      "source": [
        "### **Analysis of Results**\n",
        "- In the vanilla scheme (blue), we see that the number of unemployed people decreases slowly till about 30 and then plateaus, showing that this scheme does not eliminate unemployment in the long run, as some rational agents choose to maximize their savings by staying under the welfare programme.\n",
        "\n",
        "- The other three schemes achieve the goal of eliminating unemployment.\n",
        "\n",
        "- Within those three schemes, the one in which no welfare was provided (yellow) results in the steepest reduction of uneployment as the agents are forced to work for their survival as the desperation value is high.\n",
        "\n",
        "- The perpetual welfare scheme is faster than the dminishing aid scheme in eradicating uneployment as the benefit of finding a job is greater to the agents."
      ],
      "metadata": {
        "id": "xgoEEtHWAJv_"
      }
    },
    {
      "cell_type": "code",
      "source": [
        "fig, axs = plt.subplots(1,3, sharey = True, figsize = (15,8))\n",
        "axs[0].barh(y =  ['Binary/Vanilla welfare scheme', 'No welfare', 'Perpeptual welfare scheme', 'Diminishing aid scheme'],width= numpy.log(welfare), color='orange')\n",
        "axs[0].set_xlabel('$log(Welfare)$')\n",
        "axs[1].barh(y =  ['Binary/Vanilla welfare scheme', 'No welfare', 'Perpeptual welfare scheme', 'Diminishing aid scheme'],width= spending)\n",
        "axs[1].set_xlabel('Government Spending')\n",
        "axs[2].barh(y =  ['Binary/Vanilla welfare scheme', 'No welfare', 'Perpeptual welfare scheme', 'Diminishing aid scheme'],width= avg_income, color='brown')\n",
        "axs[2].set_xlabel('Average income')\n",
        "plt.suptitle('Comparision of welfare schemes', size = 18);\n",
        "\n",
        "\n",
        "\n",
        "\n",
        "# plt.figure(figsize = (11,8))\n",
        "# plt.barh(y =  ['Orignal welfare scheme', 'No welfare scheme', 'Perpeptual welfare scheme', 'Diminishing welfare scheme'],width= numpy.log(welfare));\n",
        "# plt.show()\n",
        "# plt.figure(figsize = (11,8))\n",
        "# plt.barh(y =  ['Orignal welfare scheme', 'No welfare scheme', 'Perpeptual welfare scheme', 'Diminishing welfare scheme'],width= spending)\n",
        "# plt.show()\n",
        "# plt.figure(figsize = (11,8))\n",
        "# plt.barh(y =  ['Orignal welfare scheme', 'No welfare scheme', 'Perpeptual welfare scheme', 'Diminishing welfare scheme'],width= avg_income)\n"
      ],
      "metadata": {
        "colab": {
          "base_uri": "https://localhost:8080/",
          "height": 558
        },
        "id": "GGgl_-ZFvSTi",
        "outputId": "3d4f10b9-e515-40b1-9bec-241251e8d010"
      },
      "execution_count": null,
      "outputs": [
        {
          "output_type": "display_data",
          "data": {
            "text/plain": [
              "<Figure size 1080x576 with 3 Axes>"
            ],
            "image/png": "[encoded data removed]"
          },
          "metadata": {
            "needs_background": "light"
          }
        }
      ]
    },
    {
      "cell_type": "markdown",
      "source": [
        "###  **Results**\n",
        "- It can be seen that doing nothing (no welfare) creates greater welfare than the vanilla scheme without any government spending. As a result, having no welfare scheme might look like a good option but it fails as it makes the agents vulnerable to exploitation as they are desperate for jobs. Addiotnally, the governemnt would still like to take some initiative to increase welfare.\n",
        "- The perpetual welfare scheme results in maximum welfare albeit the government has to spend a lot of money.\n",
        "- The best scheme out of these is the one with diminshing aid. It achieves welfare close to the welfare scheme at about half the government expenditure."
      ],
      "metadata": {
        "id": "fdcMSsPiCRrb"
      }
    },
    {
      "cell_type": "code",
      "source": [
        "df = df1.copy()\n",
        "df = df.append(df1)\n",
        "df = df.append(df2)\n",
        "df = df.append(df3)\n",
        "df = df.append(df4)\n",
        "df = df[1:]\n",
        "df.index = ['Binary/Vanilla', 'No Welfare', 'Perpeptual Welfare', 'Diminishing Aid']\n",
        "df"
      ],
      "metadata": {
        "colab": {
          "base_uri": "https://localhost:8080/",
          "height": 175
        },
        "id": "uqiNWUNc6Jwh",
        "outputId": "5d233273-fa96-413d-efe7-1a4c73147494"
      },
      "execution_count": null,
      "outputs": [
        {
          "output_type": "execute_result",
          "data": {
            "text/plain": [
              "                    Government spending  Number of employed agents  \\\n",
              "Binary/Vanilla            372500.000000                       73.0   \n",
              "No Welfare                     0.000000                      100.0   \n",
              "Perpeptual Welfare       1000000.000000                      100.0   \n",
              "Diminishing Aid           518971.690819                      100.0   \n",
              "\n",
              "                    Social welfare  Average Periodic Earning  \n",
              "Binary/Vanilla              1789.0                      43.0  \n",
              "No Welfare                  2900.0                      29.0  \n",
              "Perpeptual Welfare         51900.0                     519.0  \n",
              "Diminishing Aid            25200.0                     252.0  "
            ],
            "text/html": [
              "\n",
              "  <div id=\"df-08c26c64-331d-44b6-a5d0-333467e47ade\">\n",
              "    <div class=\"colab-df-container\">\n",
              "      <div>\n",
              "<style scoped>\n",
              "    .dataframe tbody tr th:only-of-type {\n",
              "        vertical-align: middle;\n",
              "    }\n",
              "\n",
              "    .dataframe tbody tr th {\n",
              "        vertical-align: top;\n",
              "    }\n",
              "\n",
              "    .dataframe thead th {\n",
              "        text-align: right;\n",
              "    }\n",
              "</style>\n",
              "<table border=\"1\" class=\"dataframe\">\n",
              "  <thead>\n",
              "    <tr style=\"text-align: right;\">\n",
              "      <th></th>\n",
              "      <th>Government spending</th>\n",
              "      <th>Number of employed agents</th>\n",
              "      <th>Social welfare</th>\n",
              "      <th>Average Periodic Earning</th>\n",
              "    </tr>\n",
              "  </thead>\n",
              "  <tbody>\n",
              "    <tr>\n",
              "      <th>Binary/Vanilla</th>\n",
              "      <td>372500.000000</td>\n",
              "      <td>73.0</td>\n",
              "      <td>1789.0</td>\n",
              "      <td>43.0</td>\n",
              "    </tr>\n",
              "    <tr>\n",
              "      <th>No Welfare</th>\n",
              "      <td>0.000000</td>\n",
              "      <td>100.0</td>\n",
              "      <td>2900.0</td>\n",
              "      <td>29.0</td>\n",
              "    </tr>\n",
              "    <tr>\n",
              "      <th>Perpeptual Welfare</th>\n",
              "      <td>1000000.000000</td>\n",
              "      <td>100.0</td>\n",
              "      <td>51900.0</td>\n",
              "      <td>519.0</td>\n",
              "    </tr>\n",
              "    <tr>\n",
              "      <th>Diminishing Aid</th>\n",
              "      <td>518971.690819</td>\n",
              "      <td>100.0</td>\n",
              "      <td>25200.0</td>\n",
              "      <td>252.0</td>\n",
              "    </tr>\n",
              "  </tbody>\n",
              "</table>\n",
              "</div>\n",
              "      <button class=\"colab-df-convert\" onclick=\"convertToInteractive('df-08c26c64-331d-44b6-a5d0-333467e47ade')\"\n",
              "              title=\"Convert this dataframe to an interactive table.\"\n",
              "              style=\"display:none;\">\n",
              "        \n",
              "  <svg xmlns=\"http://www.w3.org/2000/svg\" height=\"24px\"viewBox=\"0 0 24 24\"\n",
              "       width=\"24px\">\n",
              "    <path d=\"M0 0h24v24H0V0z\" fill=\"none\"/>\n",
              "    <path d=\"M18.56 5.44l.94 2.06.94-2.06 2.06-.94-2.06-.94-.94-2.06-.94 2.06-2.06.94zm-11 1L8.5 8.5l.94-2.06 2.06-.94-2.06-.94L8.5 2.5l-.94 2.06-2.06.94zm10 10l.94 2.06.94-2.06 2.06-.94-2.06-.94-.94-2.06-.94 2.06-2.06.94z\"/><path d=\"M17.41 7.96l-1.37-1.37c-.4-.4-.92-.59-1.43-.59-.52 0-1.04.2-1.43.59L10.3 9.45l-7.72 7.72c-.78.78-.78 2.05 0 2.83L4 21.41c.39.39.9.59 1.41.59.51 0 1.02-.2 1.41-.59l7.78-7.78 2.81-2.81c.8-.78.8-2.07 0-2.86zM5.41 20L4 18.59l7.72-7.72 1.47 1.35L5.41 20z\"/>\n",
              "  </svg>\n",
              "      </button>\n",
              "      \n",
              "  <style>\n",
              "    .colab-df-container {\n",
              "      display:flex;\n",
              "      flex-wrap:wrap;\n",
              "      gap: 12px;\n",
              "    }\n",
              "\n",
              "    .colab-df-convert {\n",
              "      background-color: #E8F0FE;\n",
              "      border: none;\n",
              "      border-radius: 50%;\n",
              "      cursor: pointer;\n",
              "      display: none;\n",
              "      fill: #1967D2;\n",
              "      height: 32px;\n",
              "      padding: 0 0 0 0;\n",
              "      width: 32px;\n",
              "    }\n",
              "\n",
              "    .colab-df-convert:hover {\n",
              "      background-color: #E2EBFA;\n",
              "      box-shadow: 0px 1px 2px rgba(60, 64, 67, 0.3), 0px 1px 3px 1px rgba(60, 64, 67, 0.15);\n",
              "      fill: #174EA6;\n",
              "    }\n",
              "\n",
              "    [theme=dark] .colab-df-convert {\n",
              "      background-color: #3B4455;\n",
              "      fill: #D2E3FC;\n",
              "    }\n",
              "\n",
              "    [theme=dark] .colab-df-convert:hover {\n",
              "      background-color: #434B5C;\n",
              "      box-shadow: 0px 1px 3px 1px rgba(0, 0, 0, 0.15);\n",
              "      filter: drop-shadow(0px 1px 2px rgba(0, 0, 0, 0.3));\n",
              "      fill: #FFFFFF;\n",
              "    }\n",
              "  </style>\n",
              "\n",
              "      <script>\n",
              "        const buttonEl =\n",
              "          document.querySelector('#df-08c26c64-331d-44b6-a5d0-333467e47ade button.colab-df-convert');\n",
              "        buttonEl.style.display =\n",
              "          google.colab.kernel.accessAllowed ? 'block' : 'none';\n",
              "\n",
              "        async function convertToInteractive(key) {\n",
              "          const element = document.querySelector('#df-08c26c64-331d-44b6-a5d0-333467e47ade');\n",
              "          const dataTable =\n",
              "            await google.colab.kernel.invokeFunction('convertToInteractive',\n",
              "                                                     [key], {});\n",
              "          if (!dataTable) return;\n",
              "\n",
              "          const docLinkHtml = 'Like what you see? Visit the ' +\n",
              "            '<a target=\"_blank\" href=https://colab.research.google.com/notebooks/data_table.ipynb>data table notebook</a>'\n",
              "            + ' to learn more about interactive tables.';\n",
              "          element.innerHTML = '';\n",
              "          dataTable['output_type'] = 'display_data';\n",
              "          await google.colab.output.renderOutput(dataTable, element);\n",
              "          const docLink = document.createElement('div');\n",
              "          docLink.innerHTML = docLinkHtml;\n",
              "          element.appendChild(docLink);\n",
              "        }\n",
              "      </script>\n",
              "    </div>\n",
              "  </div>\n",
              "  "
            ]
          },
          "metadata": {},
          "execution_count": 10
        }
      ]
    },
    {
      "cell_type": "markdown",
      "source": [
        "### **MNREGA** (Mahatma Gandhi National Rural Employment Guarantee Act 2005)\n",
        "In the models described above, we were assuming that the government only provides monetary aid. But since the goal of welfare schemes is to minimize unemployment while maximizing welfare, they can directly provide access to jobs, which is what MNREGA does.  \n",
        "\n",
        "This welfare scheme was launched in 2005 by the government of India which guarantee’s every person a “right to work”.\n",
        "\n",
        "Under this scheme, one person from every household is entitled to 100 days of livelihood per financial year. If work isn’t provided in 15 days, then the government will have to compensate the individual until they are employed.\n",
        "\n",
        "The advantages of MNREGA are the following:\n",
        "\n",
        "- As there is no initial monetary aid, the scheme coerces agents to be employed, but makes the process of finding a job easy. This achieves the goal of reducing poverty and unemployment, and at the same time, increasing social output.\n",
        "\n",
        "- The employment involves unskilled labour, and the work can be shared among members of a household, so the burden is not on one member to earn bread.\n",
        "\n",
        "- In our models, the government could only control desperation through welfare schemes but now the government can also control preferences of the agents as they simplified the process of job-seeking.\n"
      ],
      "metadata": {
        "id": "gI4D_DjTI110"
      }
    },
    {
      "cell_type": "markdown",
      "source": [
        "### Additional work that can be taken up based on this project\n",
        "- Comparing the short-term and long-term effectiveness of schemes by plotting welfare with respect to time (periods). This can be helpful in making decisions about welfare scheme-related policy based on whether better results are needed in the short-term or the long-run. For example, the [Universal Basic Income scheme was implemented in a Namibian village](https://www.spiegel.de/international/world/a-new-approach-to-aid-how-a-basic-income-program-saved-a-namibian-village-a-642310.html) for a year from 2008 to 2009, leading to flourishment at a great scale, i.e., the short-term impact of the scheme was great.\n",
        "- The model can be improved by adding time-dependent parameters for inflation and changing expenses introduced by improved lifestyle because of increase in salary over the periods.\n",
        "- MNREGA can be modelled as employment for a fraction of each period and studied in comparison to these schemes.\n",
        "- A sudden lack of jobs might be introduced randomly during simulation to imitate the situation during economic crises and their impact on such schemes can be studied in terms of welfare with respect to time."
      ],
      "metadata": {
        "id": "NPq8iF_bLqOU"
      }
    },
    {
      "cell_type": "markdown",
      "source": [
        "####**References**\n",
        "- [TED-Ed: Why is it so hard to escape poverty? - Ann-Helén Bay](https://youtu.be/D9N7QaIOkG8)\n",
        "- Sumner, Andy, 'The Poverty Paradox: Why are some people still poor?', Global Poverty: Deprivation, Distribution, and Development Since the Cold War (Oxford, 2016; online edn, Oxford Academic, 18 Aug. 2016), https://doi.org/10.1093/acprof:oso/9780198703525.003.0005\n",
        "- Scott, Dana & Finamor, Lucas, 2020. \"Employment Effects of Unemployment Insurance Generosity During the Pandemic,\" MPRA Paper 102390, University Library of Munich, Germany.\n",
        "- [Spiegel International: How a Basic Income Program Saved a Namibian Village](https://www.spiegel.de/international/world/a-new-approach-to-aid-how-a-basic-income-program-saved-a-namibian-village-a-642310.html)\n",
        "- [Wikipedia: Unemployment Benefits](https://en.wikipedia.org/wiki/Unemployment_benefits)\n",
        "- [Wikipedia: Universal Basic Income](https://en.wikipedia.org/wiki/Universal_basic_income#cite_note-72)\n",
        "- [Wikipedia: National Rural Employment Guarantee Act, 2005](https://en.wikipedia.org/wiki/National_Rural_Employment_Guarantee_Act,_2005)\n",
        "- Matplotlib Documentation\n",
        "- Pandas Documentation\n",
        "- Class Resources of HS4007: Computational Economics and Public Policy"
      ],
      "metadata": {
        "id": "6wyKjrqsQF2K"
      }
    },
    {
      "cell_type": "markdown",
      "source": [
        "### Contribution Report\n",
        "- Siddharth Betala (BE19B032): Ideation and formulation of the problem statement, programming the entire model (all 4 schemes and determining p[arameters for comparing the schemes) and tabulation functions, extensive literature survey, preparing and giving the presentation, contributed to preparing the mid-term report, and preparing the final report with all observations and results.\n",
        "- Bharath S (AE19B009): Code for plotting, and visualization functions, helped in determining and defining the parameters used for comparing the schemes,contributed in presentation, and prepared the mid-term report.\n",
        "- Mishma (ED19B009): Literature Survey on MNREGA and other topics\n"
      ],
      "metadata": {
        "id": "UaBL_v7eSlCQ"
      }
    }
  ],
  "metadata": {
    "kernelspec": {
      "display_name": "Python 3.9.5 64-bit",
      "language": "python",
      "name": "python3"
    },
    "language_info": {
      "codemirror_mode": {
        "name": "ipython",
        "version": 3
      },
      "file_extension": ".py",
      "mimetype": "text/x-python",
      "name": "python",
      "nbconvert_exporter": "python",
      "pygments_lexer": "ipython3",
      "version": "3.9.5"
    },
    "orig_nbformat": 4,
    "vscode": {
      "interpreter": {
        "hash": "aee8b7b246df8f9039afb4144a1f6fd8d2ca17a180786b69acc140d282b71a49"
      }
    },
    "colab": {
      "provenance": [],
      "include_colab_link": true
    }
  },
  "nbformat": 4,
  "nbformat_minor": 0
}